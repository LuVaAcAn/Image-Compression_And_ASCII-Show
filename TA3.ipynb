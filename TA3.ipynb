{
  "nbformat": 4,
  "nbformat_minor": 0,
  "metadata": {
    "colab": {
      "provenance": []
    },
    "kernelspec": {
      "name": "python3",
      "display_name": "Python 3"
    },
    "language_info": {
      "name": "python"
    }
  },
  "cells": [
    {
      "cell_type": "markdown",
      "source": [
        "**# Algoritmo 1: Compresión sin pérdida (PNG)**\n",
        "\n",
        "**Implementación:**\n",
        "Utilizaremos la librería PIL (Pillow) para abrir una imagen y guardarla en formato PNG, que utiliza compresión sin pérdida."
      ],
      "metadata": {
        "id": "BzdUP0FtmhXZ"
      }
    },
    {
      "cell_type": "code",
      "execution_count": 17,
      "metadata": {
        "colab": {
          "base_uri": "https://localhost:8080/"
        },
        "id": "Iqwr20T8mZ8l",
        "outputId": "d2219ed9-c0fd-4860-9868-e10ba243adf3"
      },
      "outputs": [
        {
          "output_type": "stream",
          "name": "stdout",
          "text": [
            "Tamaño original: 243134 bytes\n",
            "Tamaño comprimido: 239255 bytes\n",
            "Reducción de tamaño: 3879 bytes (1.60% de reducción)\n"
          ]
        }
      ],
      "source": [
        "import os\n",
        "from PIL import Image\n",
        "import requests\n",
        "from io import BytesIO\n",
        "\n",
        "def comprimirPng(direccion, salida):\n",
        "    imagen = Image.open(direccion)\n",
        "    imagen.save(salida, format='PNG', optimize=True)\n",
        "\n",
        "url = 'https://upload.wikimedia.org/wikipedia/commons/4/47/PNG_transparency_demonstration_1.png'\n",
        "respuesta = requests.get(url)\n",
        "img = Image.open(BytesIO(respuesta.content))\n",
        "\n",
        "#Comprimimos\n",
        "img.save('original.png')\n",
        "comprimirPng('original.png', 'comprimida.png')\n",
        "\n",
        "#Tamaños\n",
        "tam_original = os.path.getsize('original.png')\n",
        "tam_comprime = os.path.getsize('comprimida.png')\n",
        "\n",
        "print(f\"Tamaño original: {tam_original} bytes\")\n",
        "print(f\"Tamaño comprimido: {tam_comprime} bytes\")\n",
        "print(f\"Reducción de tamaño: {tam_original - tam_comprime} bytes ({((tam_original - tam_comprime) / tam_original) * 100:.2f}% de reducción)\")\n"
      ]
    },
    {
      "cell_type": "markdown",
      "source": [
        "**Explicación:**\n",
        "La compresión sin pérdida reduce el tamaño del archivo sin eliminar ninguna información de la imagen. Un formato común que utiliza compresión sin pérdida es PNG.\n",
        "\n",
        "**Ejemplo de Implementación:**\n",
        "En nuestro caso, tenemos una imagen, de 243134 bytes. Queremos reducir su tamaño utilizando compresión PNG.\n",
        "\n",
        "Abrimos la imagen y la guardamos en formato PNG utilizando la librería PIL (Pillow). Al guardar la imagen, especificamos que queremos optimizarla para reducir su tamaño. El tamaño comprimido resulta ser 239255 KB. Lo que se traduce en que hemos reducido el tamaño del archivo sin perder ninguna calidad."
      ],
      "metadata": {
        "id": "C5oa3JkIncMt"
      }
    },
    {
      "cell_type": "markdown",
      "source": [
        "**# Algoritmo 2: Compresión con pérdida (JPG)**\n",
        "\n",
        "**Implementación:**\n",
        "Utilizaremos la librería PIL (Pillow) para abrir una imagen *y* guardarla en formato JPG, que utiliza compresión con pérdida. Eliminando parte de la información, lo que puede resultar en una disminución de la calidad visual."
      ],
      "metadata": {
        "id": "Ins6dQxvn4Vr"
      }
    },
    {
      "cell_type": "code",
      "source": [
        "import os\n",
        "from PIL import Image\n",
        "\n",
        "def comprimeJpg(direccion, salida, quality=55):\n",
        "    imagen = Image.open(direccion)\n",
        "    imagen.save(salida, format='JPEG', quality=quality)\n",
        "\n",
        "ruta_imagen = 'prueba_jpg.jpg'\n",
        "imagen_comprimida = 'imagen_comprimida.jpg'\n",
        "\n",
        "#Comprime\n",
        "comprimeJpg(ruta_imagen, imagen_comprimida, quality=55)\n",
        "\n",
        "#Tamaños\n",
        "tam_original = os.path.getsize(ruta_imagen)\n",
        "tam_comprime = os.path.getsize(imagen_comprimida)\n",
        "\n",
        "#Imprime\n",
        "print(f\"Tamaño original: {tam_original} bytes\")\n",
        "print(f\"Tamaño comprimido: {tam_comprime} bytes\")\n",
        "print(f\"Reducción de tamaño: {tam_original - tam_comprime} bytes ({((tam_original - tam_comprime) / tam_original) * 100:.2f}% de reducción)\")"
      ],
      "metadata": {
        "colab": {
          "base_uri": "https://localhost:8080/"
        },
        "id": "lIZYqI4-qy7E",
        "outputId": "dcdbfac0-fb68-49a6-ae88-0e64fd997842"
      },
      "execution_count": 24,
      "outputs": [
        {
          "output_type": "stream",
          "name": "stdout",
          "text": [
            "Tamaño original: 27534 bytes\n",
            "Tamaño comprimido: 19463 bytes\n",
            "Reducción de tamaño: 8071 bytes (29.31% de reducción)\n"
          ]
        }
      ]
    },
    {
      "cell_type": "markdown",
      "source": [
        "**Explicación:**\n",
        "La compresión JPEG es un método de compresión con pérdida que reduce el tamaño del archivo de una imagen al eliminar parte de la información de la misma. Este método es ampliamente utilizado para comprimir imágenes fotográficas y gráficos con transiciones suaves de color, ya que permite un significativo ahorro de espacio de almacenamiento sin una pérdida aparente de calidad visual.\n",
        "\n",
        "**Ejemplo de Implementación:**\n",
        "Tenemos una imagen llamada \"prueba_jpg.jpg\" con un tamaño original de 27535 bytes. Queremos reducir su tamaño utilizando compresión JPEG.\n",
        "\n",
        "Utilizamos la función comprimeJpg para abrir la imagen y guardarla en formato JPEG con un nivel de calidad de compresión del 55%. Después de la compresión, el tamaño del archivo comprimido es de 19463 KB."
      ],
      "metadata": {
        "id": "y4cLUZi4s4fE"
      }
    },
    {
      "cell_type": "markdown",
      "source": [
        "**# Algoritmo 3: Conversión ASCII**\n",
        "\n",
        "**Implementación:**\n",
        "Utilizaremos la librería PIL (Pillow) para abrir una imagen y, de acuerdo a su tamaño, reescalarla usando la escala de grises para usar ASCII."
      ],
      "metadata": {
        "id": "fX490Egmuo_L"
      }
    },
    {
      "cell_type": "code",
      "source": [
        "from PIL import Image as I\n",
        "\n",
        "caracteresASCII = \"@%#*+=%:. \"\n",
        "\n",
        "def aEscalaGrises(imagen):\n",
        "    return imagen.convert('L')\n",
        "\n",
        "def redimensionarImagen(imagen, nuevoAncho=100):\n",
        "    ancho, alto = imagen.size\n",
        "    proporcion = alto / ancho\n",
        "    nuevoAlto = int(nuevoAncho * proporcion)\n",
        "    return imagen.resize((nuevoAncho, nuevoAlto))\n",
        "\n",
        "def pixelsAASCII(imagen):\n",
        "    pixeles = imagen.getdata()\n",
        "    asciiStr = \"\"\n",
        "    for pixel in pixeles:\n",
        "        asciiStr += caracteresASCII[pixel // 32]\n",
        "    return asciiStr\n",
        "\n",
        "def imagenAASCII(rutaImagen, nuevoAncho=100):\n",
        "    imagen = I.open(rutaImagen)\n",
        "    imagen = redimensionarImagen(imagen, nuevoAncho)\n",
        "    imagen = aEscalaGrises(imagen)\n",
        "    asciiStr = pixelsAASCII(imagen)\n",
        "    anchoImagen = imagen.width\n",
        "    asciiImg = \"\"\n",
        "    for i in range(0, len(asciiStr), anchoImagen):\n",
        "        asciiImg += asciiStr[i:i+anchoImagen] + \"\\n\"\n",
        "    return asciiImg\n",
        "\n",
        "#Imagen a convertir\n",
        "rutaImagen = \"prueba_jpg.jpg\"\n",
        "\n",
        "#Convertir\n",
        "asciiImagen = imagenAASCII(rutaImagen)\n",
        "print(asciiImagen)"
      ],
      "metadata": {
        "colab": {
          "base_uri": "https://localhost:8080/"
        },
        "id": "OctzT1k9urNx",
        "outputId": "fd179053-fe3b-458b-e8ff-7e813300b838"
      },
      "execution_count": 27,
      "outputs": [
        {
          "output_type": "stream",
          "name": "stdout",
          "text": [
            "::::::::::::::::::::::::::::::::::::::::::::::::::::::::::::::::::::::::::::::::::::::::::::::::::::\n",
            "::::::::::::::::::::::::::::::::::::::::::::::::::::::::::::::::::::::::::::::::::::::::::::::::::::\n",
            "::::::::::::::::::::::::::::::::::::::::::::::::::::::::::::::::::::::::::::::::::::::::::::::::::::\n",
            "::::::::::::::::::::::::::%%======%:::::::::::::::::::::::::::::::::::::::::::::::::::::::::::::::::\n",
            "::::::::::::::::::::::::%==++++****+=::::::::::::::::::::::::::::::%%%%:::::::::::::::::::::::::::::\n",
            ":::::::::::::::::::::::==%%++********+%:::::::::::::::::::::::::%=+++++=%%::::::::::::::::::::::::::\n",
            ":::::::::::::::::::::%+*==+##**********%:::::::::::::::::::::::=++++++=%==%:::::::::::::::::::::::::\n",
            "::::::::::::::::::::=****######********+%::::::::::::::::::::%+++=++++=:%=+=%:::::::::::::::::::::::\n",
            ":::::::::::::::::::+******##*###*****+**+:::::::::::::::::::%+++=:=++++=%=+==%::::::::::::::::::::::\n",
            ":::::::::::::::::%+**********#******=%=**%:::::::::::::::::=++++::%+++++++++==%:::::::::::::::::::::\n",
            "::::::::::::::::%+*******+****+*****%::**+::::::::::::::::=+++++%%=+++++++++=+=:::::::::::::::::::::\n",
            "::::::::::::::::+*******%:=*+++*****%:%+**%::::::::::::::=+++++++++++++++++==++%::::::::::::::::::::\n",
            ":::::::::::::::=*******+%=*++*******+=+++++:::::::::::::%++++++++++++++++++=:=+=%:::::::::::::::::::\n",
            ":::::::::::::::************++***********++*%::::::::::::===+++*+++++++++=+++%%++=:::::::::::::::::::\n",
            "::::::::::::::%##***##**##*+***************+:::::::::::%+%:=**+==+++++++==+++=+++%::::::::::::::::::\n",
            "::::::::::::::%++++++**%%#*+****************%::::::::::=+::=++%:%+++==++%%+++++++=::::::::::::::::::\n",
            "::::::::::::::%++++++++*%%*********=%+******%::::::::::=+==+++%:%+++::=+%:=++++=%=%:::::::::::::::::\n",
            ":::::::::::::::+=%+==+==+#*******+=::=**###*=::::::::::%+**+++=%=++=::=+%%=++++=:%%:::::::::::::::::\n",
            ":::::::::::::::==%==%==%=++******+=::=**###*=::::::::::%++++++++++++%=++===+++++=%=:::::::::::::::::\n",
            ":::::::::::::::%+==+==+=%=++******+=%*******=:::::::::::=+++++++++++++++==+++*+++=+%::::::::::::::::\n",
            "::::::::::::::::++++++++===+*************#**%:::::::::::=++++++++++++++++++++++++++%::::::::::::::::\n",
            "::::::::::::::::%++++++++==+***********#%#*+:::::%%====%=+++=%=++++++++++++++++++*+%::::::::::::::::\n",
            ":::::::::::::::::=++++=++===+*********+*#**=:%===%%+*+++++++=:%+++++++++++++++++++=:::::::::::::::::\n",
            ":::::::::::::::::%++++=++====*****==*+***++=+**=%%+**+++=++*+%%+++++++++++++++++++%:::::::::::::::::\n",
            "::::::::::::::::::=++++++====+***=::+***++++**++******%:%+*+**+++++++++++++++++++=::::::::::::::::::\n",
            "::::::::::::::::::%==%=+======***%::+**++++++=%:%*****+++++****+++++++++==++++++=:::::::::::::::::::\n",
            ":::::::::::::::::::%=%==%==%==+**+%%++%%=++++=%=+******+++++++**+++++++=%=+++++=::::::::::::::::::::\n",
            "::::::::::::::::::::=====%==%=+***+++%%=+++++++***##*++++**++++*++++++*+++++++%:::::::::::::::::::::\n",
            ":::::::::::::::::::::==========****++++++++%::=**+++++++++*++++++++++**+++++=%::::::::::::::::::::::\n",
            "::::::::::::::::::::::%========**##*+++***+=+**+==++++++++*=%=+++++++++++++=::::::::::::::::::::::::\n",
            "::::::::::::::::::::::::%%====+****++*#*+##**++=+++++++++++:::+++++++++++=%:::::::::::::::::::::::::\n",
            ":::::::::::::::::::::::::::::%%%=*++++*++##*++=+++++++==+*=:::++++%%===%::::::::::::::::::::::::::::\n",
            "::::::::::::::::::::::::::::::::=*++++++*%**+++++++++=::%*=::%++++::::::::::::::::::::::::::::::::::\n",
            "::::::::::::::::::::::::::::::::=*+++++++***+++++=+++:::%++==+++++%:::::::::::::::::::::::::::::::::\n",
            "::::::::::::::::::::::::::::::::%*++++++++***+++%::++%::%*+++++++*=:::::::::::::::::::::::::::::::::\n",
            "::::::::::::::::::::::::::::::::%*++++++%+***++=:::=*+%=+++++++++++:::::::::::::::::::::::::::::::::\n",
            ":::::::::::::::::::::::::::::::::+++++++==+**++=:::=++*++++++++++++:::::::::::::::::::::::::::::::::\n",
            ":::::::::::::::::::::::::::::::::+++++++==++*+++=:=+++++++++++++++*%::::::::::::::::::::::::::::::::\n",
            ":::::::::::::::::::::::::::::::::=+++++++=++*+++++*+++++++++++++++*=::::::::::::::::::::::::::::::::\n",
            ":::::::::::::::::::::::::::::::::%++++++++++*+++++++++++++++*++++++=::::::::::::::::::::::::::::::::\n",
            "::::::::::::::::::::::::::::::::::++++==++++++++**************+++++=::::::::::::::::::::::::::::::::\n",
            "::::::::::::::::::::::::::::::::::++++==+++++******########***=%+*++::::::::::::::::::::::::::::::::\n",
            "::::::::::::::::::::::::::::::::::=++++==++++****#**##***#***=::%*#+::::::::::::::::::::::::::::::::\n",
            "::::::::::::::::::::::::::::::::::%++++=+++++*******#****==*#%::%#*=::::::::::::::::::::::::::::::::\n",
            ":::::::::::::::::::::::::::::::::::++=+++++*++**#**###**=::=*=::=*+%::::::::::::::::::::::::::::::::\n",
            ":::::::::::::::::::::::::::::::::::=+%++++++*+**###*+*#*:::%**++*++:::::::::::::::::::::::::::::::::\n",
            ":::::::::::::::::::::::::::::::::::%+==++++++**###*%:%*#%::=*#*#*+%:::::::::::::::::::::::::::::::::\n",
            "::::::::::::::::::::::::::::::::::::===+++++++***#+:::+*+%=+**##*=::::::::::::::::::::::::::::::::::\n",
            ":::::::::::::::::::::::::::::::::::::+=++++++++**#+:::++++++++**%:::::::::::::::::::::::::::::::::::\n",
            ":::::::::::::::::::::::::::::::::::::%++++++++*****=%=+++*++++=:::::::::::::::::::::::::::::::::::::\n",
            "::::::::::::::::::::::::::::::::::::::=+++++==+*****++++++++=%::::::::::::::::::::::::::::::::::::::\n",
            "::::::::::::::::::::::::::::::::::::::%++=+++++*##*++++++++=%:::::::::::::::::::::::::::::::::::::::\n",
            "::::::::::::::::::::::::::::::::::::::=====++++**##*++++=%===%::::::::::::::::::::::::::::::::::::::\n",
            "::::::::::::::::::::::::::::::::::::::%=====+=++****++====%==%::::::::::::::::::::::::::::::::::::::\n",
            "::::::::::::::::::::::::::::::::::::::%=====++++++====+===:==%::::::::::::::::::::::::::::::::::::::\n",
            "::::::::::::::::::::::::::::::::::::::%=============%=====%%=%::::::::::::::::::::::::::::::::::::::\n",
            ":::::::::::::::::::::::::::::::::::::::%===========%%%=====%%%::::::::::::::::::::::::::::::::::::::\n",
            ":::::::::::::::::::::::::::::::::::::::%==%%%==============%%:::::::::::::::::::::::::::::::::::::::\n",
            "::::::::::::::::::::::::::::::::::::::::==%%================%:::::::::::::::::::::::::::::::::::::::\n",
            "::::::::::::::::::::::::::::::::::::::::%=======%%%========+=:::::::::::::::::::::::::::::::::::::::\n",
            ":::::::::::::::::::::::::::::::::::::::::====++==%=========+%:::::::::::::::::::::::::::::::::::::::\n",
            ":::::::::::::::::::::::::::::::::::::::::%===+========%%%==%::::::::::::::::::::::::::::::::::::::::\n",
            "::::::::::::::::::::::::::::::::::::::::::%===%%==========%:::::::::::::::::::::::::::::::::::::::::\n",
            ":::::::::::::::::::::::::::::::::::::::::::%=%%%========%:::::::::::::::::::::::::::::::::::::::::::\n",
            ":::::::::::::::::::::::::::::::::::::::::::::%%%==%%%%::::::::::::::::::::::::::::::::::::::::::::::\n",
            "::::::::::::::::::::::::::::::::::::::::::::::::::::::::::::::::::::::::::::::::::::::::::::::::::::\n",
            "::::::::::::::::::::::::::::::::::::::::::::::::::::::::::::::::::::::::::::::::::::::::::::::::::::\n",
            "::::::::::::::::::::::::::::::::::::::::::::::::::::::::::::::::::::::::::::::::::::::::::::::::::::\n",
            "::::::::::::::::::::::::::::::::::::::::::::::::::::::::::::::::::::::::::::::::::::::::::::::::::::\n",
            "::::::::::::::::::::::::::::::::::::::::::::::::::::::::::::::::::::::::::::::::::::::::::::::::::::\n",
            "::::::::::::::::::::::::::::::::::::::::::::::::::::::::::::::::::::::::::::::::::::::::::::::::::::\n",
            "::::::::::::::::::::::::::::::::::::::::::::::::::::::::::::::::::::::::::::::::::::::::::::::::::::\n",
            "::::::::::::::::::::::::::::::::::::::::::::::::::::::::::::::::::::::::::::::::::::::::::::::::::::\n",
            "::::::::::::::::::::::::::::::::::::::::::::::::::::::::::::::::::::::::::::::::::::::::::::::::::::\n",
            "::::::::::::::::::::::::::::::::::::::::::::::::::::::::::::::::::::::::::::::::::::::::::::::::::::\n",
            "\n"
          ]
        }
      ]
    },
    {
      "cell_type": "markdown",
      "source": [
        "**Expliación:**\n",
        "El código proporcionado realiza la conversión de una imagen en formato JPG a una representación en formato ASCII. Utiliza la biblioteca PIL para cargar la imagen, redimensionarla y convertirla a escala de grises. Posteriormente, asigna caracteres ASCII a los niveles de intensidad de los píxeles de la imagen, creando así una representación ASCII de la misma. La función principal, imagenAASCII, encapsula este proceso, tomando la ruta de la imagen como entrada y devolviendo la imagen convertida en ASCII como una cadena de texto.\n",
        "\n",
        "**aEscalaGrises** convierte la imagen a escala de grises, **redimensionarImagen** ajusta el tamaño de la imagen manteniendo su relación de aspecto, y **pixelsAASCII** asigna caracteres ASCII a los niveles de intensidad de los píxeles.\n",
        "\n",
        "Finalmente, la imagen convertida se imprime en la consola."
      ],
      "metadata": {
        "id": "Y-hGu8gqvh8B"
      }
    }
  ]
}